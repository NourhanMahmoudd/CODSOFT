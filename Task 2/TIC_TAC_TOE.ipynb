{
  "nbformat": 4,
  "nbformat_minor": 0,
  "metadata": {
    "colab": {
      "provenance": []
    },
    "kernelspec": {
      "name": "python3",
      "display_name": "Python 3"
    },
    "language_info": {
      "name": "python"
    }
  },
  "cells": [
    {
      "cell_type": "markdown",
      "source": [
        "# ***`Tic-Tac-Toe game with two options: manual player vs. player and player vs. AI using the Minimax algorithm. ❌⭕`***"
      ],
      "metadata": {
        "id": "U7enzjxsNbsy"
      }
    },
    {
      "cell_type": "code",
      "source": [
        "import random"
      ],
      "metadata": {
        "id": "SnkCaQ_tOdEJ"
      },
      "execution_count": 22,
      "outputs": []
    },
    {
      "cell_type": "code",
      "source": [
        "# Constants\n",
        "PLAYER_X = \"X\"\n",
        "PLAYER_O = \"O\"\n",
        "EMPTY = \" \"\n",
        "\n",
        "def initialize_board():\n",
        "    return [[' ' for _ in range(3)] for _ in range(3)]\n",
        "\n",
        "def print_board(board):\n",
        "    print(\"   0   1   2\")\n",
        "    print(\"  -------------\")\n",
        "    for i, row in enumerate(board):\n",
        "        print(f\"{i} | {' | '.join(row)} |\")\n",
        "        print(\"  -------------\")\n",
        "\n",
        "board = initialize_board()\n",
        "print_board(board)"
      ],
      "metadata": {
        "colab": {
          "base_uri": "https://localhost:8080/"
        },
        "id": "hZN3vLRyQ7zb",
        "outputId": "548e07aa-2043-4179-ab1e-410b2aace7ff"
      },
      "execution_count": 23,
      "outputs": [
        {
          "output_type": "stream",
          "name": "stdout",
          "text": [
            "   0   1   2\n",
            "  -------------\n",
            "0 |   |   |   |\n",
            "  -------------\n",
            "1 |   |   |   |\n",
            "  -------------\n",
            "2 |   |   |   |\n",
            "  -------------\n"
          ]
        }
      ]
    },
    {
      "cell_type": "markdown",
      "source": [
        "# ***Check for a winner and get available moves***"
      ],
      "metadata": {
        "id": "2C7IFse1WNSp"
      }
    },
    {
      "cell_type": "code",
      "source": [
        "def check_winner(board):\n",
        "    # Check rows, columns and diagonals\n",
        "    for i in range(3):\n",
        "        if board[i][0] == board[i][1] == board[i][2] != EMPTY:\n",
        "            return board[i][0]\n",
        "        if board[0][i] == board[1][i] == board[2][i] != EMPTY:\n",
        "            return board[0][i]\n",
        "\n",
        "    if board[0][0] == board[1][1] == board[2][2] != EMPTY:\n",
        "        return board[0][0]\n",
        "    if board[0][2] == board[1][1] == board[2][0] != EMPTY:\n",
        "        return board[0][2]\n",
        "\n",
        "    # Check for draw\n",
        "    if all(cell != EMPTY for row in board for cell in row):\n",
        "        return \"Draw\"\n",
        "\n",
        "    return None\n",
        "\n",
        "def get_available_moves(board):\n",
        "    moves = []\n",
        "    for i in range(3):\n",
        "        for j in range(3):\n",
        "            if board[i][j] == EMPTY:\n",
        "                moves.append((i, j))\n",
        "    return moves"
      ],
      "metadata": {
        "id": "SAVR_7jmOijY"
      },
      "execution_count": 24,
      "outputs": []
    },
    {
      "cell_type": "markdown",
      "source": [
        "# ***Minimax***"
      ],
      "metadata": {
        "id": "_aZH8yaPWbh2"
      }
    },
    {
      "cell_type": "code",
      "source": [
        "def minimax(board, depth, is_maximizing):\n",
        "    winner = check_winner(board)\n",
        "    if winner == PLAYER_X:\n",
        "        return -1\n",
        "    if winner == PLAYER_O:\n",
        "        return 1\n",
        "    if winner == \"Draw\":\n",
        "        return 0\n",
        "\n",
        "    if is_maximizing:\n",
        "        best_score = -float(\"inf\")\n",
        "        for move in get_available_moves(board):\n",
        "            board[move[0]][move[1]] = PLAYER_O\n",
        "            score = minimax(board, depth + 1, False)\n",
        "            board[move[0]][move[1]] = EMPTY\n",
        "            best_score = max(score, best_score)\n",
        "        return best_score\n",
        "    else:\n",
        "        best_score = float(\"inf\")\n",
        "        for move in get_available_moves(board):\n",
        "            board[move[0]][move[1]] = PLAYER_X\n",
        "            score = minimax(board, depth + 1, True)\n",
        "            board[move[0]][move[1]] = EMPTY\n",
        "            best_score = min(score, best_score)\n",
        "        return best_score"
      ],
      "metadata": {
        "id": "djJQrmEsU5_F"
      },
      "execution_count": 25,
      "outputs": []
    },
    {
      "cell_type": "markdown",
      "source": [
        "# ***AI and Human Moves***"
      ],
      "metadata": {
        "id": "fTVvmckdWhXf"
      }
    },
    {
      "cell_type": "code",
      "source": [
        "def ai_move(board):\n",
        "    best_score = -float(\"inf\")\n",
        "    best_move = None\n",
        "    for move in get_available_moves(board):\n",
        "        board[move[0]][move[1]] = PLAYER_O\n",
        "        score = minimax(board, 0, False)\n",
        "        board[move[0]][move[1]] = EMPTY\n",
        "        if score > best_score:\n",
        "            best_score = score\n",
        "            best_move = move\n",
        "    board[best_move[0]][best_move[1]] = PLAYER_O\n",
        "\n",
        "\n",
        "def human_move(board, player):\n",
        "    while True:\n",
        "        try:\n",
        "            move = input(f\"Enter your move (row and column) for {player}: \").split()\n",
        "            row, col = int(move[0]), int(move[1])\n",
        "            if board[row][col] == EMPTY:\n",
        "                board[row][col] = player\n",
        "                break\n",
        "            else:\n",
        "                print(\"Cell is already occupied, try again.\")\n",
        "        except (ValueError, IndexError):\n",
        "            print(\"Invalid input, please enter row and column as numbers between 0 and 2.\")"
      ],
      "metadata": {
        "id": "i-Vn7bfiVCZU"
      },
      "execution_count": 26,
      "outputs": []
    },
    {
      "cell_type": "markdown",
      "source": [
        "# ***`Main Game`***"
      ],
      "metadata": {
        "id": "mss5y_PwW0Ug"
      }
    },
    {
      "cell_type": "code",
      "source": [
        "def main():\n",
        "    print(\"Welcome to Tic-Tac-Toe!\")\n",
        "    print(\"Choose an option:\")\n",
        "    print(\"1. Player vs Player\")\n",
        "    print(\"2. Player vs AI\")\n",
        "\n",
        "    choice = input(\"Enter 1 or 2: \")\n",
        "    if choice not in [\"1\", \"2\"]:\n",
        "        print(\"Invalid choice, exiting.\")\n",
        "        return\n",
        "\n",
        "    board = initialize_board()\n",
        "    current_player = PLAYER_X\n",
        "\n",
        "    if choice == \"1\":\n",
        "        while True:\n",
        "            print_board(board)\n",
        "            human_move(board, current_player)\n",
        "            winner = check_winner(board)\n",
        "            if winner:\n",
        "                print_board(board)\n",
        "                if winner == \"Draw\":\n",
        "                    print(\"The game is a draw!\")\n",
        "                else:\n",
        "                    print(f\"Player {winner} wins!\")\n",
        "                break\n",
        "            current_player = PLAYER_O if current_player == PLAYER_X else PLAYER_X\n",
        "    else:\n",
        "        while True:\n",
        "            print_board(board)\n",
        "            if current_player == PLAYER_X:\n",
        "                human_move(board, PLAYER_X)\n",
        "            else:\n",
        "                ai_move(board)\n",
        "            winner = check_winner(board)\n",
        "            if winner:\n",
        "                print_board(board)\n",
        "                if winner == \"Draw\":\n",
        "                    print(\"The game is a draw!\")\n",
        "                else:\n",
        "                    print(f\"Player {winner} wins!\")\n",
        "                break\n",
        "            current_player = PLAYER_O if current_player == PLAYER_X else PLAYER_X\n",
        "\n",
        "if __name__ == \"__main__\":\n",
        "    main()"
      ],
      "metadata": {
        "colab": {
          "base_uri": "https://localhost:8080/"
        },
        "id": "2HwvweRWVLRO",
        "outputId": "195e0372-1472-471d-9fc4-3e29a13bd394"
      },
      "execution_count": 28,
      "outputs": [
        {
          "output_type": "stream",
          "name": "stdout",
          "text": [
            "Welcome to Tic-Tac-Toe!\n",
            "Choose an option:\n",
            "1. Player vs Player\n",
            "2. Player vs AI\n",
            "Enter 1 or 2: 2\n",
            "   0   1   2\n",
            "  -------------\n",
            "0 |   |   |   |\n",
            "  -------------\n",
            "1 |   |   |   |\n",
            "  -------------\n",
            "2 |   |   |   |\n",
            "  -------------\n",
            "Enter your move (row and column) for X: 1 1\n",
            "   0   1   2\n",
            "  -------------\n",
            "0 |   |   |   |\n",
            "  -------------\n",
            "1 |   | X |   |\n",
            "  -------------\n",
            "2 |   |   |   |\n",
            "  -------------\n",
            "   0   1   2\n",
            "  -------------\n",
            "0 | O |   |   |\n",
            "  -------------\n",
            "1 |   | X |   |\n",
            "  -------------\n",
            "2 |   |   |   |\n",
            "  -------------\n",
            "Enter your move (row and column) for X: 0 2\n",
            "   0   1   2\n",
            "  -------------\n",
            "0 | O |   | X |\n",
            "  -------------\n",
            "1 |   | X |   |\n",
            "  -------------\n",
            "2 |   |   |   |\n",
            "  -------------\n",
            "   0   1   2\n",
            "  -------------\n",
            "0 | O |   | X |\n",
            "  -------------\n",
            "1 |   | X |   |\n",
            "  -------------\n",
            "2 | O |   |   |\n",
            "  -------------\n",
            "Enter your move (row and column) for X: 1 0\n",
            "   0   1   2\n",
            "  -------------\n",
            "0 | O |   | X |\n",
            "  -------------\n",
            "1 | X | X |   |\n",
            "  -------------\n",
            "2 | O |   |   |\n",
            "  -------------\n",
            "   0   1   2\n",
            "  -------------\n",
            "0 | O |   | X |\n",
            "  -------------\n",
            "1 | X | X | O |\n",
            "  -------------\n",
            "2 | O |   |   |\n",
            "  -------------\n",
            "Enter your move (row and column) for X: 2 1\n",
            "   0   1   2\n",
            "  -------------\n",
            "0 | O |   | X |\n",
            "  -------------\n",
            "1 | X | X | O |\n",
            "  -------------\n",
            "2 | O | X |   |\n",
            "  -------------\n",
            "   0   1   2\n",
            "  -------------\n",
            "0 | O | O | X |\n",
            "  -------------\n",
            "1 | X | X | O |\n",
            "  -------------\n",
            "2 | O | X |   |\n",
            "  -------------\n",
            "Enter your move (row and column) for X: 2 2\n",
            "   0   1   2\n",
            "  -------------\n",
            "0 | O | O | X |\n",
            "  -------------\n",
            "1 | X | X | O |\n",
            "  -------------\n",
            "2 | O | X | X |\n",
            "  -------------\n",
            "The game is a draw!\n"
          ]
        }
      ]
    }
  ]
}